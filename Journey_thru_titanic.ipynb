{
  "nbformat": 4,
  "nbformat_minor": 0,
  "metadata": {
    "colab": {
      "name": "Journey_thru_titanic.ipynb",
      "version": "0.3.2",
      "views": {},
      "default_view": {},
      "provenance": []
    },
    "kernelspec": {
      "name": "python3",
      "display_name": "Python 3"
    }
  },
  "cells": [
    {
      "metadata": {
        "id": "tYrhwrMy10Cl",
        "colab_type": "code",
        "colab": {
          "autoexec": {
            "startup": false,
            "wait_interval": 0
          }
        }
      },
      "cell_type": "code",
      "source": [
        "# Imports\n",
        "\n",
        "# pandas\n",
        "import pandas as pd\n",
        "from pandas import Series,DataFrame\n",
        "\n",
        "# numpy, matplotlib, seaborn\n",
        "import numpy as np\n",
        "import matplotlib.pyplot as plt\n",
        "import seaborn as sns\n",
        "sns.set_style('whitegrid')\n",
        "%matplotlib inline\n",
        "\n",
        "# machine learning\n",
        "from sklearn.linear_model import LogisticRegression\n",
        "from sklearn.svm import SVC, LinearSVC\n",
        "from sklearn.ensemble import RandomForestClassifier\n",
        "from sklearn.neighbors import KNeighborsClassifier\n",
        "from sklearn.naive_bayes import GaussianNB\n"
      ],
      "execution_count": 0,
      "outputs": []
    },
    {
      "metadata": {
        "id": "JP_iYRFR11VO",
        "colab_type": "code",
        "colab": {
          "autoexec": {
            "startup": false,
            "wait_interval": 0
          },
          "output_extras": [
            {
              "item_id": 1
            }
          ],
          "base_uri": "https://localhost:8080/",
          "height": 206
        },
        "outputId": "ef10dcc8-cc12-4e28-8104-af465d6d4b72",
        "executionInfo": {
          "status": "ok",
          "timestamp": 1521808333207,
          "user_tz": -330,
          "elapsed": 1483,
          "user": {
            "displayName": "Reshu Singh",
            "photoUrl": "https://lh3.googleusercontent.com/a/default-user=s128",
            "userId": "116996674627853547411"
          }
        }
      },
      "cell_type": "code",
      "source": [
        "# get titanic & test csv files as a DataFrame\n",
        "titanic_df = pd.read_csv(\"train.csv\", dtype={\"Age\": np.float64}, )\n",
        "test_df    = pd.read_csv(\"test.csv\", dtype={\"Age\": np.float64}, )\n",
        "\n",
        "# preview the data\n",
        "titanic_df.head()"
      ],
      "execution_count": 3,
      "outputs": [
        {
          "output_type": "execute_result",
          "data": {
            "text/html": [
              "<div>\n",
              "<style scoped>\n",
              "    .dataframe tbody tr th:only-of-type {\n",
              "        vertical-align: middle;\n",
              "    }\n",
              "\n",
              "    .dataframe tbody tr th {\n",
              "        vertical-align: top;\n",
              "    }\n",
              "\n",
              "    .dataframe thead th {\n",
              "        text-align: right;\n",
              "    }\n",
              "</style>\n",
              "<table border=\"1\" class=\"dataframe\">\n",
              "  <thead>\n",
              "    <tr style=\"text-align: right;\">\n",
              "      <th></th>\n",
              "      <th>PassengerId</th>\n",
              "      <th>Survived</th>\n",
              "      <th>Pclass</th>\n",
              "      <th>Name</th>\n",
              "      <th>Sex</th>\n",
              "      <th>Age</th>\n",
              "      <th>SibSp</th>\n",
              "      <th>Parch</th>\n",
              "      <th>Ticket</th>\n",
              "      <th>Fare</th>\n",
              "      <th>Cabin</th>\n",
              "      <th>Embarked</th>\n",
              "    </tr>\n",
              "  </thead>\n",
              "  <tbody>\n",
              "    <tr>\n",
              "      <th>0</th>\n",
              "      <td>1</td>\n",
              "      <td>0</td>\n",
              "      <td>3</td>\n",
              "      <td>Braund, Mr. Owen Harris</td>\n",
              "      <td>male</td>\n",
              "      <td>22.0</td>\n",
              "      <td>1</td>\n",
              "      <td>0</td>\n",
              "      <td>A/5 21171</td>\n",
              "      <td>7.2500</td>\n",
              "      <td>NaN</td>\n",
              "      <td>S</td>\n",
              "    </tr>\n",
              "    <tr>\n",
              "      <th>1</th>\n",
              "      <td>2</td>\n",
              "      <td>1</td>\n",
              "      <td>1</td>\n",
              "      <td>Cumings, Mrs. John Bradley (Florence Briggs Th...</td>\n",
              "      <td>female</td>\n",
              "      <td>38.0</td>\n",
              "      <td>1</td>\n",
              "      <td>0</td>\n",
              "      <td>PC 17599</td>\n",
              "      <td>71.2833</td>\n",
              "      <td>C85</td>\n",
              "      <td>C</td>\n",
              "    </tr>\n",
              "    <tr>\n",
              "      <th>2</th>\n",
              "      <td>3</td>\n",
              "      <td>1</td>\n",
              "      <td>3</td>\n",
              "      <td>Heikkinen, Miss. Laina</td>\n",
              "      <td>female</td>\n",
              "      <td>26.0</td>\n",
              "      <td>0</td>\n",
              "      <td>0</td>\n",
              "      <td>STON/O2. 3101282</td>\n",
              "      <td>7.9250</td>\n",
              "      <td>NaN</td>\n",
              "      <td>S</td>\n",
              "    </tr>\n",
              "    <tr>\n",
              "      <th>3</th>\n",
              "      <td>4</td>\n",
              "      <td>1</td>\n",
              "      <td>1</td>\n",
              "      <td>Futrelle, Mrs. Jacques Heath (Lily May Peel)</td>\n",
              "      <td>female</td>\n",
              "      <td>35.0</td>\n",
              "      <td>1</td>\n",
              "      <td>0</td>\n",
              "      <td>113803</td>\n",
              "      <td>53.1000</td>\n",
              "      <td>C123</td>\n",
              "      <td>S</td>\n",
              "    </tr>\n",
              "    <tr>\n",
              "      <th>4</th>\n",
              "      <td>5</td>\n",
              "      <td>0</td>\n",
              "      <td>3</td>\n",
              "      <td>Allen, Mr. William Henry</td>\n",
              "      <td>male</td>\n",
              "      <td>35.0</td>\n",
              "      <td>0</td>\n",
              "      <td>0</td>\n",
              "      <td>373450</td>\n",
              "      <td>8.0500</td>\n",
              "      <td>NaN</td>\n",
              "      <td>S</td>\n",
              "    </tr>\n",
              "  </tbody>\n",
              "</table>\n",
              "</div>"
            ],
            "text/plain": [
              "   PassengerId  Survived  Pclass  \\\n",
              "0            1         0       3   \n",
              "1            2         1       1   \n",
              "2            3         1       3   \n",
              "3            4         1       1   \n",
              "4            5         0       3   \n",
              "\n",
              "                                                Name     Sex   Age  SibSp  \\\n",
              "0                            Braund, Mr. Owen Harris    male  22.0      1   \n",
              "1  Cumings, Mrs. John Bradley (Florence Briggs Th...  female  38.0      1   \n",
              "2                             Heikkinen, Miss. Laina  female  26.0      0   \n",
              "3       Futrelle, Mrs. Jacques Heath (Lily May Peel)  female  35.0      1   \n",
              "4                           Allen, Mr. William Henry    male  35.0      0   \n",
              "\n",
              "   Parch            Ticket     Fare Cabin Embarked  \n",
              "0      0         A/5 21171   7.2500   NaN        S  \n",
              "1      0          PC 17599  71.2833   C85        C  \n",
              "2      0  STON/O2. 3101282   7.9250   NaN        S  \n",
              "3      0            113803  53.1000  C123        S  \n",
              "4      0            373450   8.0500   NaN        S  "
            ]
          },
          "metadata": {
            "tags": []
          },
          "execution_count": 3
        }
      ]
    },
    {
      "metadata": {
        "id": "bDF2XSdm2Bvf",
        "colab_type": "code",
        "colab": {
          "autoexec": {
            "startup": false,
            "wait_interval": 0
          },
          "output_extras": [
            {
              "item_id": 1
            }
          ],
          "base_uri": "https://localhost:8080/",
          "height": 607
        },
        "outputId": "7c797d66-f0f7-47f3-ccdd-6c05e47a4a92",
        "executionInfo": {
          "status": "ok",
          "timestamp": 1521808350784,
          "user_tz": -330,
          "elapsed": 919,
          "user": {
            "displayName": "Reshu Singh",
            "photoUrl": "https://lh3.googleusercontent.com/a/default-user=s128",
            "userId": "116996674627853547411"
          }
        }
      },
      "cell_type": "code",
      "source": [
        "titanic_df.info()\n",
        "print(\"----------------------------\")\n",
        "test_df.info()"
      ],
      "execution_count": 4,
      "outputs": [
        {
          "output_type": "stream",
          "text": [
            "<class 'pandas.core.frame.DataFrame'>\n",
            "RangeIndex: 891 entries, 0 to 890\n",
            "Data columns (total 12 columns):\n",
            "PassengerId    891 non-null int64\n",
            "Survived       891 non-null int64\n",
            "Pclass         891 non-null int64\n",
            "Name           891 non-null object\n",
            "Sex            891 non-null object\n",
            "Age            714 non-null float64\n",
            "SibSp          891 non-null int64\n",
            "Parch          891 non-null int64\n",
            "Ticket         891 non-null object\n",
            "Fare           891 non-null float64\n",
            "Cabin          204 non-null object\n",
            "Embarked       889 non-null object\n",
            "dtypes: float64(2), int64(5), object(5)\n",
            "memory usage: 83.6+ KB\n",
            "----------------------------\n",
            "<class 'pandas.core.frame.DataFrame'>\n",
            "RangeIndex: 418 entries, 0 to 417\n",
            "Data columns (total 11 columns):\n",
            "PassengerId    418 non-null int64\n",
            "Pclass         418 non-null int64\n",
            "Name           418 non-null object\n",
            "Sex            418 non-null object\n",
            "Age            332 non-null float64\n",
            "SibSp          418 non-null int64\n",
            "Parch          418 non-null int64\n",
            "Ticket         418 non-null object\n",
            "Fare           417 non-null float64\n",
            "Cabin          91 non-null object\n",
            "Embarked       418 non-null object\n",
            "dtypes: float64(2), int64(4), object(5)\n",
            "memory usage: 36.0+ KB\n"
          ],
          "name": "stdout"
        }
      ]
    },
    {
      "metadata": {
        "id": "7XhcKZP32Jn7",
        "colab_type": "code",
        "colab": {
          "autoexec": {
            "startup": false,
            "wait_interval": 0
          },
          "output_extras": [
            {
              "item_id": 1
            }
          ],
          "base_uri": "https://localhost:8080/",
          "height": 34
        },
        "outputId": "4e7a85f3-62fb-4084-a2e0-02c28defb043",
        "executionInfo": {
          "status": "ok",
          "timestamp": 1521808364422,
          "user_tz": -330,
          "elapsed": 917,
          "user": {
            "displayName": "Reshu Singh",
            "photoUrl": "https://lh3.googleusercontent.com/a/default-user=s128",
            "userId": "116996674627853547411"
          }
        }
      },
      "cell_type": "code",
      "source": [
        "titanic_df.shape"
      ],
      "execution_count": 5,
      "outputs": [
        {
          "output_type": "execute_result",
          "data": {
            "text/plain": [
              "(891, 12)"
            ]
          },
          "metadata": {
            "tags": []
          },
          "execution_count": 5
        }
      ]
    },
    {
      "metadata": {
        "id": "rSOPBSPr2M9I",
        "colab_type": "code",
        "colab": {
          "autoexec": {
            "startup": false,
            "wait_interval": 0
          }
        }
      },
      "cell_type": "code",
      "source": [
        "# drop unnecessary columns, these columns won't be useful in analysis and prediction\n",
        "titanic_df = titanic_df.drop(['PassengerId','Name','Ticket'], axis=1)\n",
        "test_df    = test_df.drop(['Name','Ticket'], axis=1)"
      ],
      "execution_count": 0,
      "outputs": []
    },
    {
      "metadata": {
        "id": "f0r2HMvp2URp",
        "colab_type": "code",
        "colab": {
          "autoexec": {
            "startup": false,
            "wait_interval": 0
          },
          "output_extras": [
            {
              "item_id": 1
            }
          ],
          "base_uri": "https://localhost:8080/",
          "height": 300
        },
        "outputId": "8db800ec-0f5b-45a6-e37d-fca446b16f12",
        "executionInfo": {
          "status": "ok",
          "timestamp": 1521808406394,
          "user_tz": -330,
          "elapsed": 919,
          "user": {
            "displayName": "Reshu Singh",
            "photoUrl": "https://lh3.googleusercontent.com/a/default-user=s128",
            "userId": "116996674627853547411"
          }
        }
      },
      "cell_type": "code",
      "source": [
        "titanic_df.describe()"
      ],
      "execution_count": 7,
      "outputs": [
        {
          "output_type": "execute_result",
          "data": {
            "text/html": [
              "<div>\n",
              "<style scoped>\n",
              "    .dataframe tbody tr th:only-of-type {\n",
              "        vertical-align: middle;\n",
              "    }\n",
              "\n",
              "    .dataframe tbody tr th {\n",
              "        vertical-align: top;\n",
              "    }\n",
              "\n",
              "    .dataframe thead th {\n",
              "        text-align: right;\n",
              "    }\n",
              "</style>\n",
              "<table border=\"1\" class=\"dataframe\">\n",
              "  <thead>\n",
              "    <tr style=\"text-align: right;\">\n",
              "      <th></th>\n",
              "      <th>Survived</th>\n",
              "      <th>Pclass</th>\n",
              "      <th>Age</th>\n",
              "      <th>SibSp</th>\n",
              "      <th>Parch</th>\n",
              "      <th>Fare</th>\n",
              "    </tr>\n",
              "  </thead>\n",
              "  <tbody>\n",
              "    <tr>\n",
              "      <th>count</th>\n",
              "      <td>891.000000</td>\n",
              "      <td>891.000000</td>\n",
              "      <td>714.000000</td>\n",
              "      <td>891.000000</td>\n",
              "      <td>891.000000</td>\n",
              "      <td>891.000000</td>\n",
              "    </tr>\n",
              "    <tr>\n",
              "      <th>mean</th>\n",
              "      <td>0.383838</td>\n",
              "      <td>2.308642</td>\n",
              "      <td>29.699118</td>\n",
              "      <td>0.523008</td>\n",
              "      <td>0.381594</td>\n",
              "      <td>32.204208</td>\n",
              "    </tr>\n",
              "    <tr>\n",
              "      <th>std</th>\n",
              "      <td>0.486592</td>\n",
              "      <td>0.836071</td>\n",
              "      <td>14.526497</td>\n",
              "      <td>1.102743</td>\n",
              "      <td>0.806057</td>\n",
              "      <td>49.693429</td>\n",
              "    </tr>\n",
              "    <tr>\n",
              "      <th>min</th>\n",
              "      <td>0.000000</td>\n",
              "      <td>1.000000</td>\n",
              "      <td>0.420000</td>\n",
              "      <td>0.000000</td>\n",
              "      <td>0.000000</td>\n",
              "      <td>0.000000</td>\n",
              "    </tr>\n",
              "    <tr>\n",
              "      <th>25%</th>\n",
              "      <td>0.000000</td>\n",
              "      <td>2.000000</td>\n",
              "      <td>20.125000</td>\n",
              "      <td>0.000000</td>\n",
              "      <td>0.000000</td>\n",
              "      <td>7.910400</td>\n",
              "    </tr>\n",
              "    <tr>\n",
              "      <th>50%</th>\n",
              "      <td>0.000000</td>\n",
              "      <td>3.000000</td>\n",
              "      <td>28.000000</td>\n",
              "      <td>0.000000</td>\n",
              "      <td>0.000000</td>\n",
              "      <td>14.454200</td>\n",
              "    </tr>\n",
              "    <tr>\n",
              "      <th>75%</th>\n",
              "      <td>1.000000</td>\n",
              "      <td>3.000000</td>\n",
              "      <td>38.000000</td>\n",
              "      <td>1.000000</td>\n",
              "      <td>0.000000</td>\n",
              "      <td>31.000000</td>\n",
              "    </tr>\n",
              "    <tr>\n",
              "      <th>max</th>\n",
              "      <td>1.000000</td>\n",
              "      <td>3.000000</td>\n",
              "      <td>80.000000</td>\n",
              "      <td>8.000000</td>\n",
              "      <td>6.000000</td>\n",
              "      <td>512.329200</td>\n",
              "    </tr>\n",
              "  </tbody>\n",
              "</table>\n",
              "</div>"
            ],
            "text/plain": [
              "         Survived      Pclass         Age       SibSp       Parch        Fare\n",
              "count  891.000000  891.000000  714.000000  891.000000  891.000000  891.000000\n",
              "mean     0.383838    2.308642   29.699118    0.523008    0.381594   32.204208\n",
              "std      0.486592    0.836071   14.526497    1.102743    0.806057   49.693429\n",
              "min      0.000000    1.000000    0.420000    0.000000    0.000000    0.000000\n",
              "25%      0.000000    2.000000   20.125000    0.000000    0.000000    7.910400\n",
              "50%      0.000000    3.000000   28.000000    0.000000    0.000000   14.454200\n",
              "75%      1.000000    3.000000   38.000000    1.000000    0.000000   31.000000\n",
              "max      1.000000    3.000000   80.000000    8.000000    6.000000  512.329200"
            ]
          },
          "metadata": {
            "tags": []
          },
          "execution_count": 7
        }
      ]
    },
    {
      "metadata": {
        "id": "1xQLR5Lx2XM8",
        "colab_type": "code",
        "colab": {
          "autoexec": {
            "startup": false,
            "wait_interval": 0
          },
          "output_extras": [
            {
              "item_id": 1
            }
          ],
          "base_uri": "https://localhost:8080/",
          "height": 52
        },
        "outputId": "0616ae47-f6d9-459d-ff77-3a4807f722e0",
        "executionInfo": {
          "status": "ok",
          "timestamp": 1521808426085,
          "user_tz": -330,
          "elapsed": 975,
          "user": {
            "displayName": "Reshu Singh",
            "photoUrl": "https://lh3.googleusercontent.com/a/default-user=s128",
            "userId": "116996674627853547411"
          }
        }
      },
      "cell_type": "code",
      "source": [
        "# Embarked\n",
        "\n",
        "# only in titanic_df, fill the two missing values with the most occurred value.\n",
        "print(titanic_df[\"Embarked\"].mode())\n",
        "titanic_df[\"Embarked\"] = titanic_df[\"Embarked\"].fillna(titanic_df[\"Embarked\"].mode())"
      ],
      "execution_count": 8,
      "outputs": [
        {
          "output_type": "stream",
          "text": [
            "0    S\n",
            "dtype: object\n"
          ],
          "name": "stdout"
        }
      ]
    },
    {
      "metadata": {
        "id": "EJlMOA2V2b_5",
        "colab_type": "code",
        "colab": {
          "autoexec": {
            "startup": false,
            "wait_interval": 0
          },
          "output_extras": [
            {
              "item_id": 1
            },
            {
              "item_id": 2
            },
            {
              "item_id": 3
            }
          ],
          "base_uri": "https://localhost:8080/",
          "height": 703
        },
        "outputId": "e188d3c9-6b4e-46dd-8918-3eade28c283f",
        "executionInfo": {
          "status": "ok",
          "timestamp": 1521808454337,
          "user_tz": -330,
          "elapsed": 1240,
          "user": {
            "displayName": "Reshu Singh",
            "photoUrl": "https://lh3.googleusercontent.com/a/default-user=s128",
            "userId": "116996674627853547411"
          }
        }
      },
      "cell_type": "code",
      "source": [
        "# plot\n",
        "sns.factorplot('Embarked','Survived', data=titanic_df,size=4,aspect=3)\n",
        "\n",
        "fig, (axis1,axis2,axis3) = plt.subplots(1,3,figsize=(15,5))\n",
        "\n",
        "# sns.factorplot('Embarked',data=titanic_df,kind='count',order=['S','C','Q'],ax=axis1)\n",
        "# sns.factorplot('Survived',hue=\"Embarked\",data=titanic_df,kind='count',order=[1,0],ax=axis2)\n",
        "sns.countplot(x='Embarked', data=titanic_df, ax=axis1)\n",
        "sns.countplot(x='Survived', hue=\"Embarked\", data=titanic_df, order=[1,0], ax=axis2)\n",
        "\n",
        "# group by embarked, and get the mean for survived passengers for each value in Embarked\n",
        "embark_perc = titanic_df[[\"Embarked\", \"Survived\"]].groupby(['Embarked'],as_index=False).mean()\n",
        "sns.barplot(x='Embarked', y='Survived', data=embark_perc,order=['S','C','Q'],ax=axis3)\n",
        "\n",
        "# Either to consider Embarked column in predictions,\n",
        "# and remove \"S\" dummy variable, \n",
        "# and leave \"C\" & \"Q\", since they seem to have a good rate for Survival.\n",
        "\n",
        "# OR, don't create dummy variables for Embarked column, just drop it, \n",
        "# because logically, Embarked doesn't seem to be useful in prediction.\n",
        "\n",
        "embark_dummies_titanic  = pd.get_dummies(titanic_df['Embarked'])\n",
        "embark_dummies_titanic.drop(['S'], axis=1, inplace=True)\n",
        "\n",
        "embark_dummies_test  = pd.get_dummies(test_df['Embarked'])\n",
        "embark_dummies_test.drop(['S'], axis=1, inplace=True)\n",
        "\n",
        "titanic_df = titanic_df.join(embark_dummies_titanic)\n",
        "test_df    = test_df.join(embark_dummies_test)\n",
        "\n",
        "titanic_df.drop(['Embarked'], axis=1,inplace=True)\n",
        "test_df.drop(['Embarked'], axis=1,inplace=True)\n",
        "\n"
      ],
      "execution_count": 9,
      "outputs": [
        {
          "output_type": "stream",
          "text": [
            "/usr/local/lib/python3.6/dist-packages/seaborn/categorical.py:1428: FutureWarning: remove_na is deprecated and is a private function. Do not use.\n",
            "  stat_data = remove_na(group_data)\n",
            "/usr/local/lib/python3.6/dist-packages/seaborn/categorical.py:1468: FutureWarning: remove_na is deprecated and is a private function. Do not use.\n",
            "  stat_data = remove_na(group_data[hue_mask])\n"
          ],
          "name": "stderr"
        },
        {
          "output_type": "display_data",
          "data": {
            "image/png": "[encoded data removed]",
            "text/plain": [
              "<matplotlib.figure.Figure at 0x7fadaa2b4b38>"
            ]
          },
          "metadata": {
            "tags": []
          }
        },
        {
          "output_type": "display_data",
          "data": {
            "image/png": "[encoded data removed]",
            "text/plain": [
              "<matplotlib.figure.Figure at 0x7fadaa2b47f0>"
            ]
          },
          "metadata": {
            "tags": []
          }
        }
      ]
    },
    {
      "metadata": {
        "id": "SrqacpU12i0t",
        "colab_type": "code",
        "colab": {
          "autoexec": {
            "startup": false,
            "wait_interval": 0
          },
          "output_extras": [
            {
              "item_id": 1
            },
            {
              "item_id": 2
            },
            {
              "item_id": 3
            }
          ],
          "base_uri": "https://localhost:8080/",
          "height": 488
        },
        "outputId": "d06ca7e7-5a49-4846-d43f-c897d54e926d",
        "executionInfo": {
          "status": "ok",
          "timestamp": 1521808472884,
          "user_tz": -330,
          "elapsed": 945,
          "user": {
            "displayName": "Reshu Singh",
            "photoUrl": "https://lh3.googleusercontent.com/a/default-user=s128",
            "userId": "116996674627853547411"
          }
        }
      },
      "cell_type": "code",
      "source": [
        "# Fare\n",
        "\n",
        "# only for test_df, since there is a missing \"Fare\" values\n",
        "test_df[\"Fare\"].fillna(test_df[\"Fare\"].median(), inplace=True)\n",
        "\n",
        "# convert from float to int\n",
        "titanic_df['Fare'] = titanic_df['Fare'].astype(int)\n",
        "test_df['Fare']    = test_df['Fare'].astype(int)\n",
        "\n",
        "# get fare for survived & didn't survive passengers \n",
        "fare_not_survived = titanic_df[\"Fare\"][titanic_df[\"Survived\"] == 0]\n",
        "fare_survived     = titanic_df[\"Fare\"][titanic_df[\"Survived\"] == 1]\n",
        "\n",
        "# get average and std for fare of survived/not survived passengers\n",
        "avgerage_fare = DataFrame([fare_not_survived.mean(), fare_survived.mean()])\n",
        "std_fare      = DataFrame([fare_not_survived.std(), fare_survived.std()])\n",
        "\n",
        "# plot\n",
        "titanic_df['Fare'].plot(kind='hist', figsize=(15,3),bins=100, xlim=(0,50))\n",
        "\n",
        "avgerage_fare.index.names = std_fare.index.names = [\"Survived\"]\n",
        "avgerage_fare.plot(yerr=std_fare,kind='bar',legend=False)\n"
      ],
      "execution_count": 10,
      "outputs": [
        {
          "output_type": "execute_result",
          "data": {
            "text/plain": [
              "<matplotlib.axes._subplots.AxesSubplot at 0x7fada7f2b7f0>"
            ]
          },
          "metadata": {
            "tags": []
          },
          "execution_count": 10
        },
        {
          "output_type": "display_data",
          "data": {
            "image/png": "[encoded data removed]",
            "text/plain": [
              "<matplotlib.figure.Figure at 0x7fadaa2a6da0>"
            ]
          },
          "metadata": {
            "tags": []
          }
        },
        {
          "output_type": "display_data",
          "data": {
            "image/png": "[encoded data removed]",
            "text/plain": [
              "<matplotlib.figure.Figure at 0x7fada7fbe208>"
            ]
          },
          "metadata": {
            "tags": []
          }
        }
      ]
    },
    {
      "metadata": {
        "id": "Q7wha3C02nbK",
        "colab_type": "code",
        "colab": {
          "autoexec": {
            "startup": false,
            "wait_interval": 0
          },
          "output_extras": [
            {
              "item_id": 1
            },
            {
              "item_id": 2
            },
            {
              "item_id": 3
            }
          ],
          "base_uri": "https://localhost:8080/",
          "height": 436
        },
        "outputId": "c3a97751-985b-4490-ec14-3caf53385cd1",
        "executionInfo": {
          "status": "ok",
          "timestamp": 1521808495573,
          "user_tz": -330,
          "elapsed": 1807,
          "user": {
            "displayName": "Reshu Singh",
            "photoUrl": "https://lh3.googleusercontent.com/a/default-user=s128",
            "userId": "116996674627853547411"
          }
        }
      },
      "cell_type": "code",
      "source": [
        "# Age \n",
        "\n",
        "fig, (axis1,axis2) = plt.subplots(1,2,figsize=(15,4))\n",
        "axis1.set_title('Original Age values - Titanic')\n",
        "axis2.set_title('New Age values - Titanic')\n",
        "\n",
        "#axis3.set_title('Original Age values - Test')\n",
        "#axis4.set_title('New Age values - Test')\n",
        "\n",
        "# get average, std, and number of NaN values in titanic_df\n",
        "average_age_titanic   = titanic_df[\"Age\"].mean()\n",
        "std_age_titanic       = titanic_df[\"Age\"].std()\n",
        "count_nan_age_titanic = titanic_df[\"Age\"].isnull().sum()\n",
        "\n",
        "# get average, std, and number of NaN values in test_df\n",
        "average_age_test   = test_df[\"Age\"].mean()\n",
        "std_age_test       = test_df[\"Age\"].std()\n",
        "count_nan_age_test = test_df[\"Age\"].isnull().sum()\n",
        "\n",
        "# generate random numbers between (mean - std) & (mean + std)\n",
        "rand_1 = np.random.randint(average_age_titanic - std_age_titanic, average_age_titanic + std_age_titanic, size = count_nan_age_titanic)\n",
        "rand_2 = np.random.randint(average_age_test - std_age_test, average_age_test + std_age_test, size = count_nan_age_test)\n",
        "\n",
        "# plot original Age values\n",
        "# NOTE: drop all null values, and convert to int\n",
        "\n",
        "titanic_df['Age'].dropna().astype(int).hist(bins=70, ax=axis1)\n",
        "#test_df['Age'].dropna().astype(int).hist(bins=70, ax=axis)\n",
        "\n",
        "# fill NaN values in Age column with random values generated\n",
        "titanic_df[\"Age\"][np.isnan(titanic_df[\"Age\"])] = rand_1\n",
        "test_df[\"Age\"][np.isnan(test_df[\"Age\"])] = rand_2\n",
        "\n",
        "# convert from float to int\n",
        "titanic_df['Age'] = titanic_df['Age'].astype(int)\n",
        "test_df['Age']    = test_df['Age'].astype(int)\n",
        "        \n",
        "# plot new Age Values\n",
        "titanic_df['Age'].hist(bins=70, ax=axis2)\n",
        "# test_df['Age'].hist(bins=70, ax=axis4)"
      ],
      "execution_count": 11,
      "outputs": [
        {
          "output_type": "stream",
          "text": [
            "/usr/local/lib/python3.6/dist-packages/ipykernel_launcher.py:30: SettingWithCopyWarning: \n",
            "A value is trying to be set on a copy of a slice from a DataFrame\n",
            "\n",
            "See the caveats in the documentation: http://pandas.pydata.org/pandas-docs/stable/indexing.html#indexing-view-versus-copy\n",
            "/usr/local/lib/python3.6/dist-packages/ipykernel_launcher.py:31: SettingWithCopyWarning: \n",
            "A value is trying to be set on a copy of a slice from a DataFrame\n",
            "\n",
            "See the caveats in the documentation: http://pandas.pydata.org/pandas-docs/stable/indexing.html#indexing-view-versus-copy\n"
          ],
          "name": "stderr"
        },
        {
          "output_type": "execute_result",
          "data": {
            "text/plain": [
              "<matplotlib.axes._subplots.AxesSubplot at 0x7fada7dfe6a0>"
            ]
          },
          "metadata": {
            "tags": []
          },
          "execution_count": 11
        },
        {
          "output_type": "display_data",
          "data": {
            "image/png": "[encoded data removed]",
            "text/plain": [
              "<matplotlib.figure.Figure at 0x7fada7ea66a0>"
            ]
          },
          "metadata": {
            "tags": []
          }
        }
      ]
    },
    {
      "metadata": {
        "id": "bGsOHeEi2swS",
        "colab_type": "code",
        "colab": {
          "autoexec": {
            "startup": false,
            "wait_interval": 0
          },
          "output_extras": [
            {
              "item_id": 1
            },
            {
              "item_id": 2
            },
            {
              "item_id": 3
            },
            {
              "item_id": 4
            }
          ],
          "base_uri": "https://localhost:8080/",
          "height": 559
        },
        "outputId": "eb0158cd-ec3d-44ad-9aba-a700e30b30b5",
        "executionInfo": {
          "status": "ok",
          "timestamp": 1521808512570,
          "user_tz": -330,
          "elapsed": 1751,
          "user": {
            "displayName": "Reshu Singh",
            "photoUrl": "https://lh3.googleusercontent.com/a/default-user=s128",
            "userId": "116996674627853547411"
          }
        }
      },
      "cell_type": "code",
      "source": [
        "# .... continue with plot Age column\n",
        "\n",
        "# peaks for survived/not survived passengers by their age\n",
        "facet = sns.FacetGrid(titanic_df, hue=\"Survived\",aspect=4)\n",
        "facet.map(sns.kdeplot,'Age',shade= True)\n",
        "facet.set(xlim=(0, titanic_df['Age'].max()))\n",
        "facet.add_legend()\n",
        "\n",
        "# average survived passengers by age\n",
        "fig, axis1 = plt.subplots(1,1,figsize=(18,4))\n",
        "average_age = titanic_df[[\"Age\", \"Survived\"]].groupby(['Age'],as_index=False).mean()\n",
        "sns.barplot(x='Age', y='Survived', data=average_age)\n"
      ],
      "execution_count": 12,
      "outputs": [
        {
          "output_type": "stream",
          "text": [
            "/usr/local/lib/python3.6/dist-packages/seaborn/categorical.py:1428: FutureWarning: remove_na is deprecated and is a private function. Do not use.\n",
            "  stat_data = remove_na(group_data)\n"
          ],
          "name": "stderr"
        },
        {
          "output_type": "execute_result",
          "data": {
            "text/plain": [
              "<matplotlib.axes._subplots.AxesSubplot at 0x7fada7fa18d0>"
            ]
          },
          "metadata": {
            "tags": []
          },
          "execution_count": 12
        },
        {
          "output_type": "display_data",
          "data": {
            "image/png": "[encoded data removed]",
            "text/plain": [
              "<matplotlib.figure.Figure at 0x7fada7e8eb70>"
            ]
          },
          "metadata": {
            "tags": []
          }
        },
        {
          "output_type": "display_data",
          "data": {
            "image/png": "[encoded data removed]",
            "text/plain": [
              "<matplotlib.figure.Figure at 0x7fada8128710>"
            ]
          },
          "metadata": {
            "tags": []
          }
        }
      ]
    },
    {
      "metadata": {
        "id": "Y3OgjcKi2w63",
        "colab_type": "code",
        "colab": {
          "autoexec": {
            "startup": false,
            "wait_interval": 0
          }
        }
      },
      "cell_type": "code",
      "source": [
        "# Cabin\n",
        "# It has a lot of NaN values, so it won't cause a remarkable impact on prediction\n",
        "titanic_df.drop(\"Cabin\",axis=1,inplace=True)\n",
        "test_df.drop(\"Cabin\",axis=1,inplace=True)"
      ],
      "execution_count": 0,
      "outputs": []
    },
    {
      "metadata": {
        "id": "T-Q6odsS23jL",
        "colab_type": "code",
        "colab": {
          "autoexec": {
            "startup": false,
            "wait_interval": 0
          },
          "output_extras": [
            {
              "item_id": 2
            },
            {
              "item_id": 3
            },
            {
              "item_id": 4
            }
          ],
          "base_uri": "https://localhost:8080/",
          "height": 493
        },
        "outputId": "26f5dc87-9b7a-496c-d8ab-afd7caad3436",
        "executionInfo": {
          "status": "ok",
          "timestamp": 1521808556760,
          "user_tz": -330,
          "elapsed": 1291,
          "user": {
            "displayName": "Reshu Singh",
            "photoUrl": "https://lh3.googleusercontent.com/a/default-user=s128",
            "userId": "116996674627853547411"
          }
        }
      },
      "cell_type": "code",
      "source": [
        "    # Family\n",
        "\n",
        "# Instead of having two columns Parch & SibSp, \n",
        "# we can have only one column represent if the passenger had any family member aboard or not,\n",
        "# Meaning, if having any family member(whether parent, brother, ...etc) will increase chances of Survival or not.\n",
        "titanic_df['Family'] =  titanic_df[\"Parch\"] + titanic_df[\"SibSp\"]\n",
        "titanic_df['Family'].loc[titanic_df['Family'] > 0] = 1\n",
        "titanic_df['Family'].loc[titanic_df['Family'] == 0] = 0\n",
        "\n",
        "test_df['Family'] =  test_df[\"Parch\"] + test_df[\"SibSp\"]\n",
        "test_df['Family'].loc[test_df['Family'] > 0] = 1\n",
        "test_df['Family'].loc[test_df['Family'] == 0] = 0\n",
        "\n",
        "# drop Parch & SibSp\n",
        "titanic_df = titanic_df.drop(['SibSp','Parch'], axis=1)\n",
        "test_df    = test_df.drop(['SibSp','Parch'], axis=1)\n",
        "\n",
        "# plot\n",
        "fig, (axis1,axis2) = plt.subplots(1,2,sharex=True,figsize=(10,5))\n",
        "\n",
        "# sns.factorplot('Family',data=titanic_df,kind='count',ax=axis1)\n",
        "sns.countplot(x='Family', data=titanic_df, order=[1,0], ax=axis1)\n",
        "\n",
        "# average of survived for those who had/didn't have any family member\n",
        "family_perc = titanic_df[[\"Family\", \"Survived\"]].groupby(['Family'],as_index=False).mean()\n",
        "sns.barplot(x='Family', y='Survived', data=family_perc, order=[1,0], ax=axis2)\n",
        "\n",
        "axis1.set_xticklabels([\"With Family\",\"Alone\"], rotation=0)"
      ],
      "execution_count": 14,
      "outputs": [
        {
          "output_type": "stream",
          "text": [
            "/usr/local/lib/python3.6/dist-packages/pandas/core/indexing.py:194: SettingWithCopyWarning: \n",
            "A value is trying to be set on a copy of a slice from a DataFrame\n",
            "\n",
            "See the caveats in the documentation: http://pandas.pydata.org/pandas-docs/stable/indexing.html#indexing-view-versus-copy\n",
            "  self._setitem_with_indexer(indexer, value)\n",
            "/usr/local/lib/python3.6/dist-packages/seaborn/categorical.py:1428: FutureWarning: remove_na is deprecated and is a private function. Do not use.\n",
            "  stat_data = remove_na(group_data)\n"
          ],
          "name": "stderr"
        },
        {
          "output_type": "execute_result",
          "data": {
            "text/plain": [
              "[Text(0,0,'With Family'), Text(0,0,'Alone')]"
            ]
          },
          "metadata": {
            "tags": []
          },
          "execution_count": 14
        },
        {
          "output_type": "display_data",
          "data": {
            "image/png": "[encoded data removed]",
            "text/plain": [
              "<matplotlib.figure.Figure at 0x7fadaa2db9e8>"
            ]
          },
          "metadata": {
            "tags": []
          }
        }
      ]
    },
    {
      "metadata": {
        "id": "Jj90ZmRu270N",
        "colab_type": "code",
        "colab": {
          "autoexec": {
            "startup": false,
            "wait_interval": 0
          },
          "output_extras": [
            {
              "item_id": 1
            },
            {
              "item_id": 2
            },
            {
              "item_id": 3
            }
          ],
          "base_uri": "https://localhost:8080/",
          "height": 406
        },
        "outputId": "cc2f5b2d-e38b-4799-a159-358c573d70c3",
        "executionInfo": {
          "status": "ok",
          "timestamp": 1521808574819,
          "user_tz": -330,
          "elapsed": 864,
          "user": {
            "displayName": "Reshu Singh",
            "photoUrl": "https://lh3.googleusercontent.com/a/default-user=s128",
            "userId": "116996674627853547411"
          }
        }
      },
      "cell_type": "code",
      "source": [
        "# Sex\n",
        "\n",
        "# As we see, children(age < ~16) on aboard seem to have a high chances for Survival.\n",
        "# So, we can classify passengers as males, females, and child\n",
        "def get_person(passenger):\n",
        "    age,sex = passenger\n",
        "    return 'child' if age < 16 else sex\n",
        "    \n",
        "titanic_df['Person'] = titanic_df[['Age','Sex']].apply(get_person,axis=1)\n",
        "test_df['Person']    = test_df[['Age','Sex']].apply(get_person,axis=1)\n",
        "\n",
        "# No need to use Sex column since we created Person column\n",
        "titanic_df.drop(['Sex'],axis=1,inplace=True)\n",
        "test_df.drop(['Sex'],axis=1,inplace=True)\n",
        "fig, (axis1,axis2) = plt.subplots(1,2,figsize=(10,5))\n",
        "\n",
        "# sns.factorplot('Person',data=titanic_df,kind='count',ax=axis1)\n",
        "sns.countplot(x='Person', data=titanic_df, ax=axis1)\n",
        "\n",
        "# average of survived for each Person(male, female, or child)\n",
        "person_perc = titanic_df[[\"Person\", \"Survived\"]].groupby(['Person'],as_index=False).mean()\n",
        "sns.barplot(x='Person', y='Survived', data=person_perc, ax=axis2, order=['male','female','child'])"
      ],
      "execution_count": 15,
      "outputs": [
        {
          "output_type": "stream",
          "text": [
            "/usr/local/lib/python3.6/dist-packages/seaborn/categorical.py:1428: FutureWarning: remove_na is deprecated and is a private function. Do not use.\n",
            "  stat_data = remove_na(group_data)\n"
          ],
          "name": "stderr"
        },
        {
          "output_type": "execute_result",
          "data": {
            "text/plain": [
              "<matplotlib.axes._subplots.AxesSubplot at 0x7fada79fd710>"
            ]
          },
          "metadata": {
            "tags": []
          },
          "execution_count": 15
        },
        {
          "output_type": "display_data",
          "data": {
            "image/png": "[encoded data removed]",
            "text/plain": [
              "<matplotlib.figure.Figure at 0x7fadaa2e66a0>"
            ]
          },
          "metadata": {
            "tags": []
          }
        }
      ]
    },
    {
      "metadata": {
        "id": "ia-GVH5h3AU-",
        "colab_type": "code",
        "colab": {
          "autoexec": {
            "startup": false,
            "wait_interval": 0
          }
        }
      },
      "cell_type": "code",
      "source": [
        "# create dummy variables for Person column, & drop Male as it has the lowest average of survived passengers\n",
        "person_dummies_titanic  = pd.get_dummies(titanic_df['Person'])\n",
        "person_dummies_titanic.columns = ['Child','Female','Male']\n",
        "person_dummies_titanic.drop(['Male'], axis=1, inplace=True)\n",
        "\n",
        "person_dummies_test  = pd.get_dummies(test_df['Person'])\n",
        "person_dummies_test.columns = ['Child','Female','Male']\n",
        "person_dummies_test.drop(['Male'], axis=1, inplace=True)\n",
        "\n",
        "titanic_df = titanic_df.join(person_dummies_titanic)\n",
        "test_df    = test_df.join(person_dummies_test)\n",
        "\n",
        "titanic_df.drop(['Person'],axis=1,inplace=True)\n",
        "test_df.drop(['Person'],axis=1,inplace=True)\n",
        "\n"
      ],
      "execution_count": 0,
      "outputs": []
    },
    {
      "metadata": {
        "id": "1x9Wttk83EhY",
        "colab_type": "code",
        "colab": {
          "autoexec": {
            "startup": false,
            "wait_interval": 0
          },
          "output_extras": [
            {
              "item_id": 1
            },
            {
              "item_id": 2
            }
          ],
          "base_uri": "https://localhost:8080/",
          "height": 424
        },
        "outputId": "22ee5bbc-c756-4684-9d9f-92858c3e7acc",
        "executionInfo": {
          "status": "ok",
          "timestamp": 1521808609254,
          "user_tz": -330,
          "elapsed": 1012,
          "user": {
            "displayName": "Reshu Singh",
            "photoUrl": "https://lh3.googleusercontent.com/a/default-user=s128",
            "userId": "116996674627853547411"
          }
        }
      },
      "cell_type": "code",
      "source": [
        "# Pclass\n",
        "\n",
        "# sns.factorplot('Pclass',data=titanic_df,kind='count',order=[1,2,3])\n",
        "sns.factorplot('Pclass','Survived',order=[1,2,3], data=titanic_df,size=5)\n",
        "\n",
        "# create dummy variables for Pclass column, & drop 3rd class as it has the lowest average of survived passengers\n",
        "pclass_dummies_titanic  = pd.get_dummies(titanic_df['Pclass'])\n",
        "pclass_dummies_titanic.columns = ['Class_1','Class_2','Class_3']\n",
        "pclass_dummies_titanic.drop(['Class_3'], axis=1, inplace=True)\n",
        "\n",
        "pclass_dummies_test  = pd.get_dummies(test_df['Pclass'])\n",
        "pclass_dummies_test.columns = ['Class_1','Class_2','Class_3']\n",
        "pclass_dummies_test.drop(['Class_3'], axis=1, inplace=True)\n",
        "\n",
        "titanic_df.drop(['Pclass'],axis=1,inplace=True)\n",
        "test_df.drop(['Pclass'],axis=1,inplace=True)\n",
        "\n",
        "titanic_df = titanic_df.join(pclass_dummies_titanic)\n",
        "test_df    = test_df.join(pclass_dummies_test)"
      ],
      "execution_count": 17,
      "outputs": [
        {
          "output_type": "stream",
          "text": [
            "/usr/local/lib/python3.6/dist-packages/seaborn/categorical.py:1428: FutureWarning: remove_na is deprecated and is a private function. Do not use.\n",
            "  stat_data = remove_na(group_data)\n"
          ],
          "name": "stderr"
        },
        {
          "output_type": "display_data",
          "data": {
            "image/png": "[encoded data removed]",
            "text/plain": [
              "<matplotlib.figure.Figure at 0x7fada7a22ac8>"
            ]
          },
          "metadata": {
            "tags": []
          }
        }
      ]
    },
    {
      "metadata": {
        "id": "A_33RY0J3Ism",
        "colab_type": "code",
        "colab": {
          "autoexec": {
            "startup": false,
            "wait_interval": 0
          }
        }
      },
      "cell_type": "code",
      "source": [
        "# define training and testing sets\n",
        "\n",
        "X_train = titanic_df.drop(\"Survived\",axis=1)\n",
        "Y_train = titanic_df[\"Survived\"]\n",
        "X_test  = test_df.drop(\"PassengerId\",axis=1).copy()"
      ],
      "execution_count": 0,
      "outputs": []
    },
    {
      "metadata": {
        "id": "IdgLfC8B3NPM",
        "colab_type": "code",
        "colab": {
          "autoexec": {
            "startup": false,
            "wait_interval": 0
          },
          "output_extras": [
            {
              "item_id": 1
            }
          ],
          "base_uri": "https://localhost:8080/",
          "height": 34
        },
        "outputId": "df5c7e46-a16c-4573-eaa1-72b15fecb2ca",
        "executionInfo": {
          "status": "ok",
          "timestamp": 1521808646401,
          "user_tz": -330,
          "elapsed": 2904,
          "user": {
            "displayName": "Reshu Singh",
            "photoUrl": "https://lh3.googleusercontent.com/a/default-user=s128",
            "userId": "116996674627853547411"
          }
        }
      },
      "cell_type": "code",
      "source": [
        "# Logistic Regression\n",
        "\n",
        "logreg = LogisticRegression()\n",
        "\n",
        "logreg.fit(X_train, Y_train)\n",
        "\n",
        "Y_pred = logreg.predict(X_test)\n",
        "\n",
        "logreg.score(X_train, Y_train)\n"
      ],
      "execution_count": 19,
      "outputs": [
        {
          "output_type": "execute_result",
          "data": {
            "text/plain": [
              "0.8103254769921436"
            ]
          },
          "metadata": {
            "tags": []
          },
          "execution_count": 19
        }
      ]
    },
    {
      "metadata": {
        "id": "wXwwjsbC3RTb",
        "colab_type": "code",
        "colab": {
          "autoexec": {
            "startup": false,
            "wait_interval": 0
          },
          "output_extras": [
            {
              "item_id": 1
            }
          ],
          "base_uri": "https://localhost:8080/",
          "height": 34
        },
        "outputId": "6c644bad-000a-4b7d-c572-b6370bf9f762",
        "executionInfo": {
          "status": "ok",
          "timestamp": 1521808665689,
          "user_tz": -330,
          "elapsed": 853,
          "user": {
            "displayName": "Reshu Singh",
            "photoUrl": "https://lh3.googleusercontent.com/a/default-user=s128",
            "userId": "116996674627853547411"
          }
        }
      },
      "cell_type": "code",
      "source": [
        "# Support Vector Machines\n",
        "\n",
        "svc = SVC()\n",
        "\n",
        "svc.fit(X_train, Y_train)\n",
        "\n",
        "Y_pred = svc.predict(X_test)\n",
        "\n",
        "svc.score(X_train, Y_train)\n"
      ],
      "execution_count": 20,
      "outputs": [
        {
          "output_type": "execute_result",
          "data": {
            "text/plain": [
              "0.8484848484848485"
            ]
          },
          "metadata": {
            "tags": []
          },
          "execution_count": 20
        }
      ]
    },
    {
      "metadata": {
        "id": "1iPCkOpD3Wg7",
        "colab_type": "code",
        "colab": {
          "autoexec": {
            "startup": false,
            "wait_interval": 0
          },
          "output_extras": [
            {
              "item_id": 1
            }
          ],
          "base_uri": "https://localhost:8080/",
          "height": 34
        },
        "outputId": "9305aa89-c6dd-42e8-fe93-a643cf887081",
        "executionInfo": {
          "status": "ok",
          "timestamp": 1521808681523,
          "user_tz": -330,
          "elapsed": 1027,
          "user": {
            "displayName": "Reshu Singh",
            "photoUrl": "https://lh3.googleusercontent.com/a/default-user=s128",
            "userId": "116996674627853547411"
          }
        }
      },
      "cell_type": "code",
      "source": [
        "# Random Forests\n",
        "\n",
        "random_forest = RandomForestClassifier(n_estimators=100)\n",
        "\n",
        "random_forest.fit(X_train, Y_train)\n",
        "\n",
        "Y_pred = random_forest.predict(X_test)\n",
        "\n",
        "random_forest.score(X_train, Y_train)"
      ],
      "execution_count": 21,
      "outputs": [
        {
          "output_type": "execute_result",
          "data": {
            "text/plain": [
              "0.9663299663299664"
            ]
          },
          "metadata": {
            "tags": []
          },
          "execution_count": 21
        }
      ]
    },
    {
      "metadata": {
        "id": "UjWzfBEG3aVS",
        "colab_type": "code",
        "colab": {
          "autoexec": {
            "startup": false,
            "wait_interval": 0
          },
          "output_extras": [
            {
              "item_id": 1
            }
          ],
          "base_uri": "https://localhost:8080/",
          "height": 34
        },
        "outputId": "9b0e196e-1d69-4669-bec3-a0f7980d5fea",
        "executionInfo": {
          "status": "ok",
          "timestamp": 1521808698124,
          "user_tz": -330,
          "elapsed": 770,
          "user": {
            "displayName": "Reshu Singh",
            "photoUrl": "https://lh3.googleusercontent.com/a/default-user=s128",
            "userId": "116996674627853547411"
          }
        }
      },
      "cell_type": "code",
      "source": [
        "knn = KNeighborsClassifier(n_neighbors = 3)\n",
        "\n",
        "knn.fit(X_train, Y_train)\n",
        "\n",
        "Y_pred = knn.predict(X_test)\n",
        "\n",
        "knn.score(X_train, Y_train)"
      ],
      "execution_count": 22,
      "outputs": [
        {
          "output_type": "execute_result",
          "data": {
            "text/plain": [
              "0.8159371492704826"
            ]
          },
          "metadata": {
            "tags": []
          },
          "execution_count": 22
        }
      ]
    },
    {
      "metadata": {
        "id": "dzI0OU1j3ec6",
        "colab_type": "code",
        "colab": {
          "autoexec": {
            "startup": false,
            "wait_interval": 0
          },
          "output_extras": [
            {
              "item_id": 1
            }
          ],
          "base_uri": "https://localhost:8080/",
          "height": 34
        },
        "outputId": "fe1c9754-fb4d-4f8a-e86b-43912b0fc90b",
        "executionInfo": {
          "status": "ok",
          "timestamp": 1521808710212,
          "user_tz": -330,
          "elapsed": 819,
          "user": {
            "displayName": "Reshu Singh",
            "photoUrl": "https://lh3.googleusercontent.com/a/default-user=s128",
            "userId": "116996674627853547411"
          }
        }
      },
      "cell_type": "code",
      "source": [
        "# Gaussian Naive Bayes\n",
        "\n",
        "gaussian = GaussianNB()\n",
        "\n",
        "gaussian.fit(X_train, Y_train)\n",
        "\n",
        "Y_pred = gaussian.predict(X_test)\n",
        "\n",
        "gaussian.score(X_train, Y_train)\n"
      ],
      "execution_count": 23,
      "outputs": [
        {
          "output_type": "execute_result",
          "data": {
            "text/plain": [
              "0.7598204264870931"
            ]
          },
          "metadata": {
            "tags": []
          },
          "execution_count": 23
        }
      ]
    },
    {
      "metadata": {
        "id": "1j_ZrC-f3hY7",
        "colab_type": "code",
        "colab": {
          "autoexec": {
            "startup": false,
            "wait_interval": 0
          },
          "output_extras": [
            {
              "item_id": 1
            }
          ],
          "base_uri": "https://localhost:8080/",
          "height": 332
        },
        "outputId": "adcf0827-b8b5-49bd-c1c4-d0faef8d8651",
        "executionInfo": {
          "status": "ok",
          "timestamp": 1521808728451,
          "user_tz": -330,
          "elapsed": 988,
          "user": {
            "displayName": "Reshu Singh",
            "photoUrl": "https://lh3.googleusercontent.com/a/default-user=s128",
            "userId": "116996674627853547411"
          }
        }
      },
      "cell_type": "code",
      "source": [
        "# get Correlation Coefficient for each feature using Logistic Regression\n",
        "coeff_df = DataFrame(titanic_df.columns.delete(0))\n",
        "coeff_df.columns = ['Features']\n",
        "coeff_df[\"Coefficient Estimate\"] = pd.Series(logreg.coef_[0])\n",
        "\n",
        "# preview\n",
        "coeff_df\n"
      ],
      "execution_count": 24,
      "outputs": [
        {
          "output_type": "execute_result",
          "data": {
            "text/html": [
              "<div>\n",
              "<style scoped>\n",
              "    .dataframe tbody tr th:only-of-type {\n",
              "        vertical-align: middle;\n",
              "    }\n",
              "\n",
              "    .dataframe tbody tr th {\n",
              "        vertical-align: top;\n",
              "    }\n",
              "\n",
              "    .dataframe thead th {\n",
              "        text-align: right;\n",
              "    }\n",
              "</style>\n",
              "<table border=\"1\" class=\"dataframe\">\n",
              "  <thead>\n",
              "    <tr style=\"text-align: right;\">\n",
              "      <th></th>\n",
              "      <th>Features</th>\n",
              "      <th>Coefficient Estimate</th>\n",
              "    </tr>\n",
              "  </thead>\n",
              "  <tbody>\n",
              "    <tr>\n",
              "      <th>0</th>\n",
              "      <td>Age</td>\n",
              "      <td>-0.023171</td>\n",
              "    </tr>\n",
              "    <tr>\n",
              "      <th>1</th>\n",
              "      <td>Fare</td>\n",
              "      <td>0.000736</td>\n",
              "    </tr>\n",
              "    <tr>\n",
              "      <th>2</th>\n",
              "      <td>C</td>\n",
              "      <td>0.620695</td>\n",
              "    </tr>\n",
              "    <tr>\n",
              "      <th>3</th>\n",
              "      <td>Q</td>\n",
              "      <td>0.331860</td>\n",
              "    </tr>\n",
              "    <tr>\n",
              "      <th>4</th>\n",
              "      <td>Family</td>\n",
              "      <td>-0.251963</td>\n",
              "    </tr>\n",
              "    <tr>\n",
              "      <th>5</th>\n",
              "      <td>Child</td>\n",
              "      <td>1.900450</td>\n",
              "    </tr>\n",
              "    <tr>\n",
              "      <th>6</th>\n",
              "      <td>Female</td>\n",
              "      <td>2.780130</td>\n",
              "    </tr>\n",
              "    <tr>\n",
              "      <th>7</th>\n",
              "      <td>Class_1</td>\n",
              "      <td>2.047658</td>\n",
              "    </tr>\n",
              "    <tr>\n",
              "      <th>8</th>\n",
              "      <td>Class_2</td>\n",
              "      <td>1.134575</td>\n",
              "    </tr>\n",
              "  </tbody>\n",
              "</table>\n",
              "</div>"
            ],
            "text/plain": [
              "  Features  Coefficient Estimate\n",
              "0      Age             -0.023171\n",
              "1     Fare              0.000736\n",
              "2        C              0.620695\n",
              "3        Q              0.331860\n",
              "4   Family             -0.251963\n",
              "5    Child              1.900450\n",
              "6   Female              2.780130\n",
              "7  Class_1              2.047658\n",
              "8  Class_2              1.134575"
            ]
          },
          "metadata": {
            "tags": []
          },
          "execution_count": 24
        }
      ]
    },
    {
      "metadata": {
        "id": "Xvdcx3YR3lzX",
        "colab_type": "code",
        "colab": {
          "autoexec": {
            "startup": false,
            "wait_interval": 0
          }
        }
      },
      "cell_type": "code",
      "source": [
        "submission = pd.DataFrame({\n",
        "        \"PassengerId\": test_df[\"PassengerId\"],\n",
        "        \"Survived\": Y_pred\n",
        "    })\n",
        "submission.to_csv('titanic.csv', index=False)"
      ],
      "execution_count": 0,
      "outputs": []
    },
    {
      "metadata": {
        "id": "AExOZOhU3q_U",
        "colab_type": "code",
        "colab": {
          "autoexec": {
            "startup": false,
            "wait_interval": 0
          }
        }
      },
      "cell_type": "code",
      "source": [
        ""
      ],
      "execution_count": 0,
      "outputs": []
    }
  ]
}